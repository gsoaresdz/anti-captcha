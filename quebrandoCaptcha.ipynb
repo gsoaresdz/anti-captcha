{
 "cells": [
  {
   "cell_type": "markdown",
   "metadata": {},
   "source": [
    "## Projeto Anti-Captcha\n",
    "\n",
    "Este projeto utiliza a biblioteca Selenium e a API do Anti-Captcha para quebrar captchas do tipo reCAPTCHA v2 em uma página web de demonstração."
   ]
  },
  {
   "cell_type": "markdown",
   "metadata": {},
   "source": [
    "###### Imports | Bibliotecas"
   ]
  },
  {
   "cell_type": "code",
   "execution_count": null,
   "metadata": {},
   "outputs": [],
   "source": [
    "from webdriver_manager.chrome import ChromeDriverManager\n",
    "from selenium import webdriver\n",
    "from selenium.webdriver.chrome.service import Service\n",
    "from selenium.webdriver.common.by import By\n",
    "from anticaptchaofficial.recaptchav2proxyless import *\n",
    "import time\n",
    "from PIL import Image\n",
    "\n",
    "navegador = webdriver.Chrome(service=Service (ChromeDriverManager().install()))"
   ]
  },
  {
   "cell_type": "markdown",
   "metadata": {},
   "source": [
    "###### Acessando página web"
   ]
  },
  {
   "cell_type": "code",
   "execution_count": null,
   "metadata": {},
   "outputs": [],
   "source": [
    "link = \"https://google.com/recaptcha/api2/demo\"\n",
    "navegador.get(link)"
   ]
  },
  {
   "cell_type": "markdown",
   "metadata": {},
   "source": [
    "###### Quebrando o captcha"
   ]
  },
  {
   "cell_type": "code",
   "execution_count": null,
   "metadata": {},
   "outputs": [],
   "source": [
    "chave_api = 'SUA_CHAVE_API'\n",
    "chave_captcha = navegador.find_element(By.ID, 'recaptcha-demo').get_attribute('data-sitekey')\n",
    "\n",
    "solver = recaptchaV2Proxyless()\n",
    "solver.set_verbose(1) # 1 - verbose on, 0 - verbose off\n",
    "solver.set_key(chave_api) # your api key from 2captcha.com\n",
    "solver.set_website_url(link) # website url\n",
    "solver.set_website_key(chave_captcha)\n",
    "\n",
    "resposta = solver.solve_and_return_solution()\n",
    "\n",
    "if resposta != 0:\n",
    "  print(resposta)\n",
    "  navegador.execute_script(f\"document.getElementById('g-recaptcha-response').innerHTML = '{resposta}'\")\n",
    "  time.sleep(5)\n",
    "  navegador.find_element(By.ID, 'recaptcha-demo-submit').click()\n",
    "else:\n",
    "  print(solver.err_string) "
   ]
  },
  {
   "cell_type": "markdown",
   "metadata": {},
   "source": [
    "###### Enviando evidência de quebra do captcha"
   ]
  },
  {
   "cell_type": "code",
   "execution_count": null,
   "metadata": {},
   "outputs": [],
   "source": [
    "data_atual = time.gmtime()\n",
    "ano = data_atual.tm_year\n",
    "mes = data_atual.tm_mon\n",
    "dia = data_atual.tm_mday\n",
    "hora = data_atual.tm_hour - 3\n",
    "minuto = data_atual.tm_min\n",
    "segundo = data_atual.tm_sec\n",
    "\n",
    "prtsc = navegador.save_screenshot(\"C:\\Teste\\Captura captcha {}-{}-{} {}{}{}.png\".format(dia, mes, ano, hora, minuto, segundo))\n",
    "time.sleep(3)"
   ]
  },
  {
   "cell_type": "markdown",
   "metadata": {},
   "source": [
    "###### Encerrando navegador"
   ]
  },
  {
   "cell_type": "code",
   "execution_count": null,
   "metadata": {},
   "outputs": [],
   "source": [
    "navegador.quit()"
   ]
  }
 ],
 "metadata": {
  "kernelspec": {
   "display_name": "Python 3.9.7 ('base')",
   "language": "python",
   "name": "python3"
  },
  "language_info": {
   "codemirror_mode": {
    "name": "ipython",
    "version": 3
   },
   "file_extension": ".py",
   "mimetype": "text/x-python",
   "name": "python",
   "nbconvert_exporter": "python",
   "pygments_lexer": "ipython3",
   "version": "3.9.7"
  },
  "orig_nbformat": 4,
  "vscode": {
   "interpreter": {
    "hash": "050e05a3433b3439c75c3996882c7a94442b00aaf0a5c5f8ac5c4068c5ae1f8a"
   }
  }
 },
 "nbformat": 4,
 "nbformat_minor": 2
}
